{
  "nbformat": 4,
  "nbformat_minor": 0,
  "metadata": {
    "colab": {
      "provenance": [],
      "collapsed_sections": [],
      "include_colab_link": true
    },
    "kernelspec": {
      "name": "python3",
      "display_name": "Python 3"
    },
    "language_info": {
      "name": "python"
    }
  },
  "cells": [
    {
      "cell_type": "markdown",
      "metadata": {
        "id": "view-in-github",
        "colab_type": "text"
      },
      "source": [
        "<a href=\"https://colab.research.google.com/github/rsmith103/2850_public/blob/main/ica02_FunctionsCollections_1221.ipynb\" target=\"_parent\"><img src=\"https://colab.research.google.com/assets/colab-badge.svg\" alt=\"Open In Colab\"/></a>"
      ]
    },
    {
      "cell_type": "markdown",
      "metadata": {
        "id": "AqcPU-renAi2"
      },
      "source": [
        "# ica02 - Fun with functions and collections - o - matic"
      ]
    },
    {
      "cell_type": "markdown",
      "source": [
        "Create a new project with PyCharm using a virtual enviroment.\n",
        "\n",
        "This ica will exercise a number of different basic collection operations, and will be menu driven like ica01. You can reuse some ica01 menu and `__main__` processing as appropriate."
      ],
      "metadata": {
        "id": "vcDCobjK7ZJC"
      }
    },
    {
      "cell_type": "markdown",
      "source": [
        "**Menu**\n",
        "\n",
        "To start create a function called Menu, no return, no arguments. Print a menu for each part of the ica. This will be called from the `__main__` block to allow selective testing of your ica.\n",
        "\n",
        "In `__main__`, create a loop that will print the menu, then using input(), retrieve an option character from the user - invoking the requested part function until the user input was empty ( user just hit enter ). Some functions will require additional prompting for function parameters. For brevity, if any additional input parameters fail to meet requirements  ( ie. empty, not numeric, etc ), processing may skip without an explicit error and go back to the main menu.\n",
        "\n",
        "Your\n",
        "\n",
        "```\n",
        "Menu : \n",
        "s   : Shuffle Stats\n",
        "a   : Analyze Stats\n",
        "Selection :\n",
        "```\n",
        "This Menu and Selection prompt repeats until the user does not enter a selection.\n",
        "\n",
        "\n",
        "You should put the menu contents in a global list variable with explicit initialization \n"
      ],
      "metadata": {
        "id": "7_maihZcOO2e"
      }
    },
    {
      "cell_type": "markdown",
      "source": [
        "**Part A - Shuffling**\n",
        "\n",
        "This part of the ica will involve creating multiple shuffling functions and a shuffle statistics function to exercise each.\n",
        "\n",
        "**Shuffled** - Without using any variation of a library Shuffle, instead implementing an explicit Fisher-Yates shuffle, write a function called Shuffled(), accepting a list, returning a new shuffled *copy* of the argument, the argument list will NOT be modified.\n",
        "\n",
        "**Shuzzled** - Now, Copy/Modify your Shuffled() function to introduce an error/bias into the mix. Call this Shuzzled(), and select a random swap element but NOT including the current start index ( it will never stay put )\n",
        "\n",
        "Recall that like javascript ( and a bit like c# delegates ), variables can be assigned function references, and be invoked as such.\n",
        "\n",
        "**ShuffleStats** - Fashioned after your ica statistics function, create function ShuffleStats, accepting \n",
        "- `runs` - representing the number of complete shuffles to provide stats for\n",
        "- `items` - representing the collection of integers to shuffle\n",
        "- `**kwargs` parameter, accepting key/value pairs to provide additional functionality, our shuffle algorithm will be specified this way\n",
        "Implemenation steps - \n",
        "- determine if kwargs parameter contains the keyword `algo`, the value will be the function ( not name, function reference like c# delegates ), assign a local algorithm variable to this function. If none is supplied, use the function Shuffled.\n",
        "- create your stats collection matching the size of the supplied items\n",
        "- for `runs` times, \n",
        "-- using the algorithm specified, save the shuffled collection, but ensure it is a copy of the items collection ( do not shuffle the supplied `items` )\n",
        "-- iterate and accumulate the shuffle stats\n",
        "- Iterate and print() the statistics in the form below\n",
        "- finally, return your statistics list\n",
        "\n",
        "```\n",
        "Shuffle Stats for : Shuffled\n",
        "[000] = 5544 error     0.800%\n",
        "[001] = 5460 error    -0.727%\n",
        "[002] = 5370 error    -2.364%\n",
        "[003] = 5549 error     0.891%\n",
        "[004] = 5573 error     1.327%\n",
        "[005] = 5501 error     0.018%\n",
        "[006] = 5469 error    -0.564%\n",
        "[007] = 5384 error    -2.109%\n",
        "[008] = 5547 error     0.855%\n",
        "[009] = 5671 error     3.109%\n",
        "[010] = 5565 error     1.182%\n",
        "[011] = 5367 error    -2.418%\n",
        "```\n",
        "Use the `__name__` property of the algorithm variable to retrieve its textual name, do not supply a literal.\n",
        "\n",
        "\n"
      ],
      "metadata": {
        "id": "BrAXJEIrP3TO"
      }
    },
    {
      "cell_type": "markdown",
      "source": [
        "Now include the `__main__` menu functionality to support this interface demonstration : \n",
        "```\n",
        "Menu : \n",
        "s   : Shuffle Stats\n",
        "Selection : s\n",
        "Input runs : 1000\n",
        "Input range : 12\n",
        "Algorithm Selection, default = Shuffled, z = Shuzzled : \n",
        "```\n",
        "In this case, no input was supplied for Algorithm Selection, default used\n",
        "\n",
        "Verify that the `runs` and `range` were numeric, and use range() to generate a list of integers of `range` length for the `items` parameter. Invoke the `ShuffleStats` function with the selected algorithm and save the resultant statistics array."
      ],
      "metadata": {
        "id": "cLS5JEGpdb0C"
      }
    },
    {
      "cell_type": "code",
      "source": [
        "# Function variable sample\n",
        "a = [ 2, 3, 4, 5]\n",
        "# variable fnc will be assigned function reference ( sum ), fnc now acts a bit like a c# delegate\n",
        "fnc = sum # sum() is a built-in function to accumulate the sum of a collection\n",
        "\n",
        "# Invoke fnc as if it was a normal explicit function. This is also true for function input arguments.\n",
        "print( fnc( a ))"
      ],
      "metadata": {
        "colab": {
          "base_uri": "https://localhost:8080/"
        },
        "id": "tzRD2ab5YTFs",
        "outputId": "d8332f14-8eab-4950-a37b-2437075630a5"
      },
      "execution_count": null,
      "outputs": [
        {
          "output_type": "stream",
          "name": "stdout",
          "text": [
            "14\n"
          ]
        }
      ]
    },
    {
      "cell_type": "markdown",
      "source": [
        "**Part B - Analyze Statistics**\n",
        "\n",
        "This part will analyze the statistics collection returned by ShuffleStats. You may only use `min, max and sum`, you must programmatically determine the modes manually by creating and populating the list.\n",
        "\n",
        "**AnalyzeStats** - create function AnalyzeStats, accepting a collection of numeric statistical data, returning a tuple.\n",
        "\n",
        "returning tuple will contain : \n",
        "\n",
        "`minimumValue, maximumValue, averageValue, [ all_max_mode_values ], modeFrequency`\n",
        "\n",
        "The list contains all mode values of the maximum frequency found, for example\n",
        "\n",
        "`[ 3, 43, 55 ], 12` -> means value 3, 43 and 55 were all found 12 times in the list, and 12 is the highest frequency - this list could be a single value too, only value of that frequency\n",
        "\n",
        "\n",
        "```\n",
        "[202, 196, 202, 191, 209]\n",
        "Analyze stats for 5 elements\n",
        "Min : 191\n",
        "Max : 209\n",
        "Avg : 200.0\n",
        "Modes : [202] with frequency of 2\n",
        "```\n",
        " "
      ],
      "metadata": {
        "id": "tGUpigljZKRs"
      }
    },
    {
      "cell_type": "markdown",
      "source": [
        "Now include the `__main__` menu functionality to support this interface demonstration : \n",
        "```\n",
        "Menu : \n",
        "s   : Shuffle Stats\n",
        "a   : Analyze Stats\n",
        "Selection :a\n",
        "Stats List : [202, 196, 202, 191, 209]\n",
        "Analyze stats for 5 elements\n",
        "Min : 191\n",
        "Max : 209\n",
        "Avg : 200.0\n",
        "Modes : [202] with frequency of 2\n",
        "```\n",
        "\n",
        "In order to properly test the Analyze functionality, if no stats have yet been generated, substitute the following for the stats list : \n",
        "\n",
        "`[1,2,3,4,5,1,2,3,4,5,2,4,2,4,3,3]` - there will be 3 mode values of frequency 4\n",
        "\n",
        "```\n",
        "[1, 2, 3, 4, 5, 1, 2, 3, 4, 5, 2, 4, 2, 4, 3, 3]\n",
        "Analyze stats for 16 elements\n",
        "Min : 1\n",
        "Max : 5\n",
        "Avg : 3.0\n",
        "Modes : [2, 3, 4] with frequency of 4\n",
        "```\n",
        "\n",
        "You may initialize the stats collection with this default, which will be replaced upon a successful Shuffle Stats operation.\n"
      ],
      "metadata": {
        "id": "00PVlgEpdgvK"
      }
    }
  ]
}