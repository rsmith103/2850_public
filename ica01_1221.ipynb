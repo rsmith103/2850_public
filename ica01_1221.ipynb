{
  "nbformat": 4,
  "nbformat_minor": 0,
  "metadata": {
    "colab": {
      "provenance": [],
      "collapsed_sections": [],
      "include_colab_link": true
    },
    "kernelspec": {
      "name": "python3",
      "display_name": "Python 3"
    },
    "language_info": {
      "name": "python"
    }
  },
  "cells": [
    {
      "cell_type": "markdown",
      "metadata": {
        "id": "view-in-github",
        "colab_type": "text"
      },
      "source": [
        "<a href=\"https://colab.research.google.com/github/rsmith103/2850_public/blob/main/ica01_1221.ipynb\" target=\"_parent\"><img src=\"https://colab.research.google.com/assets/colab-badge.svg\" alt=\"Open In Colab\"/></a>"
      ]
    },
    {
      "cell_type": "markdown",
      "metadata": {
        "id": "KwjAwDL-X734"
      },
      "source": [
        "# ica01\n",
        "\n",
        "Intro and Basic Collections.\n",
        "\n",
        "This ica is a simple introduction into using PyCharm for your development environment. Use a Virtual Environment with a 3.10.x interpreter.\n",
        "\n",
        "Each part should be put into a function as described.\n",
        "\n",
        "\n",
        "[python.org:Collections](https://docs.python.org/3.9/library/stdtypes.html?highlight=list#standard-generic-collections)"
      ]
    },
    {
      "cell_type": "markdown",
      "source": [
        "**Menu**\n",
        "\n",
        "To start create a function called Menu, no return, no arguments. Print a menu for each part of the ica. This will be called from the `__main__` block to allow selective testing of your ica.\n",
        "\n",
        "In `__main__`, create a loop that will print the menu, then using input(), retrieve an option character from the user - invoking the requested part function until the user input was empty ( user just hit enter ). Some functions will require additional prompting for function parameters. For brevity, if any additional input parameters fail to meet requirements  ( ie. empty, not numeric, etc ), processing may skip without an explicit error and go back to the main menu.\n",
        "\n",
        "Your\n",
        "\n",
        "```\n",
        "Menu :\n",
        "p   : Palindromes\n",
        "r   : Random Distribution\n",
        "s   : Shuffle Distribution\n",
        "l   : List Comparisons\n",
        "Selection :\n",
        "```\n",
        "This Menu and Selection prompt repeats until the user does not enter a selection.\n",
        "\n",
        "\n",
        "You should put the menu contents in a global list variable with explicit initialization as shown below : \n"
      ],
      "metadata": {
        "id": "7_maihZcOO2e"
      }
    },
    {
      "cell_type": "code",
      "source": [
        "# Your Menu should be a global list of menu entries, which are lists of string :\n",
        "# Example : list of pairs of menu entries\n",
        "menu = [['p', 'Palindrome'],['r','Random Generation Stats']] # fill as required, \n",
        "\n",
        "# Then your Menu function will iterate and print a nicely formatted menu\n",
        "print( f'{menu[1][0]:3}: {menu[1][1]}')\n",
        "\n",
        "# For the ica, do NOT use explicit indexing, use a nested for loop to print the menu as shown above.\n",
        "# for - menu entry\n",
        "#     for - menu items"
      ],
      "metadata": {
        "colab": {
          "base_uri": "https://localhost:8080/"
        },
        "id": "o46RbwguYG2H",
        "outputId": "a6066665-b35c-43b3-c607-16661ea58dd9"
      },
      "execution_count": null,
      "outputs": [
        {
          "output_type": "stream",
          "name": "stdout",
          "text": [
            "r  : Random Generation Stats\n"
          ]
        }
      ]
    },
    {
      "cell_type": "markdown",
      "source": [
        "**Functions**"
      ],
      "metadata": {
        "id": "Uc8rQ-JGDk2q"
      }
    },
    {
      "cell_type": "code",
      "metadata": {
        "id": "fsgJu0Sf1dTw"
      },
      "source": [
        "# Function Palindrome, accepts a string to test\n",
        "# Menu - p : Palindromes\n",
        "# a palindrome is a string that is identical whichever direction it is iterated\n",
        "# using subscripts and slicing, determine if is a palendrome\n",
        "# Test strings to verify your processing : ** You can loop and test these\n",
        "pStrings = [ \n",
        "\"abcdefghgfedcbb\",               # boundary outside\n",
        "\"abcdefghigfedcba\",              # boundary inside\n",
        "\"abczefghgfedcba\",               # boundary midside\n",
        "\"abcdefghijklmnop\",              # plainly, NO\n",
        "\"abcdefghgfedcba\",               # yes, odd number\n",
        "\"abcdefggfedcba\"]                # yes, even number\n",
        "#expected output for abcdefghgfedcbb, as you iterate, indicate non-matching characters, OR just the iteration count as you traverse to the middle\n",
        "# the final line indicates whether the string is a palindrome\n",
        "\"\"\"\n",
        "a != b\n",
        "1\n",
        "2\n",
        "3\n",
        "4\n",
        "5\n",
        "6\n",
        "abcdefghgfedcbb : Palindrome = False\n",
        "\"\"\""
      ],
      "execution_count": null,
      "outputs": []
    },
    {
      "cell_type": "code",
      "metadata": {
        "id": "Ca6Jo7WDClbh"
      },
      "source": [
        "# Function RandomDistribution( runs, rand_range )\n",
        "# Menu - r : Random Distribution Stats\n",
        "# Simple verification of random number distribution\n",
        "# Distribution validation version I :\n",
        "#   for each random number generated N, increment [N]th element in a stats list,\n",
        "#   at the end, all \"buckets\" should hold approximately the same number - ie. bucket[2] holds how many 2's were generated, they should all match\n",
        "# runs represents the number of random number generations made\n",
        "# rand_range provides the non-inclusive upper bound of the random number range. ie. rand_range = 7, then random numbers are 0,1,2,3,4,5,6\n",
        "# upon completion output the percentage% of the hits to each number, provide the expected value, provide the %delta from ideal/expected\n",
        "# Sample output per bucket :\n",
        "#[0] = 1054 actual 10.54% expected : 10.0% , .. one line for each bucket\n",
        "# import random is required\n",
        "\"\"\"\n",
        "Selection :r\n",
        "Input runs : 300\n",
        "Input range : 8\n",
        "[0] = 52 actual 17.33% expected : 12.5%\n",
        "[1] = 38 actual 12.67% expected : 12.5%\n",
        "[2] = 37 actual 12.33% expected : 12.5%\n",
        "[3] = 38 actual 12.67% expected : 12.5%\n",
        "[4] = 31 actual 10.33% expected : 12.5%\n",
        "[5] = 37 actual 12.33% expected : 12.5%\n",
        "[6] = 33 actual 11.0% expected : 12.5%\n",
        "[7] = 34 actual 11.33% expected : 12.5%\n",
        "Sum of % : 100.000\n",
        "\"\"\""
      ],
      "execution_count": null,
      "outputs": []
    },
    {
      "cell_type": "code",
      "source": [
        "# Format refresher :\n",
        "x = 12.1233\n",
        "print(f'{round(x,4):9.3f}') # careful, no trailing space on format specifier"
      ],
      "metadata": {
        "colab": {
          "base_uri": "https://localhost:8080/"
        },
        "id": "hu45bPMc2Vjs",
        "outputId": "7a949102-dbc2-48da-b087-7d7e2b70c5d0"
      },
      "execution_count": null,
      "outputs": [
        {
          "output_type": "stream",
          "name": "stdout",
          "text": [
            "   12.123\n"
          ]
        }
      ]
    },
    {
      "cell_type": "code",
      "metadata": {
        "id": "wyfdDCKKHSh6"
      },
      "source": [
        "# Function ShuffleDistribution( runs, rand_range )\n",
        "# Menu - s : Shuffle Distribution Stats\n",
        "# Shuffle distribution - Given a sequence, if shuffled, summing shuffled[N] into an empty summary list, then\n",
        "#  each bucket should be summing an even distribution of all numbers,\n",
        "#  so the sum of each upon completion should be 1/rand_range of the sum of all numbers in the summary list\n",
        "# Fill a starter list with a sequence of 0 to rand_range, stepping by 10. ie. using 100 for rand_range results in a list [0, 10, 20, 30, 40, 50, 60, 70, 80, 90]\n",
        "# print your starter list\n",
        "# Create a summary list to sum the shuffle elements\n",
        "# For runs iterations, make a copy of the starter, shuffle it using random.shuffle(), and sum the element values into your summary list\n",
        "# use the random.shuffle() function - output the statisics of shuffle randomness\n",
        "# Note : reference sum() for the total, but only do this once, python will not optimize and cache that value for you\n",
        "# Output format indicates the (+/-)% off the expected value - use variables, no duplicate expressions !\n",
        "# Expected Output\n",
        "\"\"\"\n",
        "Selection :s\n",
        "Input runs : 200\n",
        "Input range : 150\n",
        "[0, 10, 20, 30, 40, 50, 60, 70, 80, 90, 100, 110, 120, 130, 140]\n",
        "[000] = 14290 error     2.071%\n",
        "[001] = 13370 error    -4.500%\n",
        "[002] = 13800 error    -1.429%\n",
        "[003] = 14030 error     0.214%\n",
        "[004] = 13840 error    -1.143%\n",
        "[005] = 14330 error     2.357%\n",
        "[006] = 15450 error    10.357%\n",
        "[007] = 13710 error    -2.071%\n",
        "[008] = 12800 error    -8.571%\n",
        "[009] = 13500 error    -3.571%\n",
        "[010] = 13490 error    -3.643%\n",
        "[011] = 14710 error     5.071%\n",
        "[012] = 14110 error     0.786%\n",
        "[013] = 14430 error     3.071%\n",
        "[014] = 14140 error     1.000%\n",
        "\"\"\"\n"
      ],
      "execution_count": null,
      "outputs": []
    },
    {
      "cell_type": "code",
      "metadata": {
        "id": "p5J72YsKCju4"
      },
      "source": [
        "#Function ListComparisons( leftList, rightList )\n",
        "#Without using ANY python set operations ( in and not in allowed ), perform the following using the operations described :\n",
        "#Using 5 distinct lists : left, right, intersect, leftOnly, rightOnly\n",
        "#Populate left as a new list from leftList\n",
        "#output as shown\n",
        "#Populate right as a new list from rightList\n",
        "#output as shown\n",
        "#Populate intersect with the values common to each list, append found items to intersect list ( nested loop required )\n",
        "#Using a while(), empty your intersect list using pop(), output the values separated with a ( + )\n",
        "#Populate leftOnly with values only in left, not in right, use list concatenation for each value found\n",
        "#Populate rightOnly with values only in right, not in left, construct the list using whatever you think is the most efficent way\n",
        "#expected output : \n",
        "\"\"\"\n",
        "Selection :l\n",
        "Left list [abcdefghijklmnopq] : \n",
        "Right list [jklmnopqrstuvwxyz] : \n",
        "left:['a', 'b', 'c', 'd', 'e', 'f', 'g', 'h', 'i', 'j', 'k', 'l', 'm', 'n', 'o', 'p', 'q']\n",
        "right: ['j', 'k', 'l', 'm', 'n', 'o', 'p', 'q', 'r', 's', 't', 'u', 'v', 'w', 'x', 'y', 'z']\n",
        "Intersect : q+p+o+n+m+l+k+j+\n",
        "LeftOnly : a<<b<<c<<d<<e<<f<<g<<h<<i<<\n",
        "RightOnly : r>>s>>t>>u>>v>>w>>x>>y>>z>>\n",
        "\"\"\"\n",
        "#** Note the Menu processing shown, indicates the default used if no input supplied, assign these strings to the input variables prior to calling ListComparisons()"
      ],
      "execution_count": null,
      "outputs": []
    }
  ]
}